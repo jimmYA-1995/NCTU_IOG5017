{
  "nbformat": 4,
  "nbformat_minor": 0,
  "metadata": {
    "colab": {
      "name": "poker.ipynb",
      "provenance": [],
      "collapsed_sections": [],
      "authorship_tag": "ABX9TyMHQl222wc+Nkl/EErzjDGx",
      "include_colab_link": true
    },
    "kernelspec": {
      "name": "python3",
      "display_name": "Python 3"
    },
    "language_info": {
      "name": "python"
    }
  },
  "cells": [
    {
      "cell_type": "markdown",
      "metadata": {
        "id": "view-in-github",
        "colab_type": "text"
      },
      "source": [
        "<a href=\"https://colab.research.google.com/github/tjwei/NCTU_IOG5017/blob/master/python_intro/poker.ipynb\" target=\"_parent\"><img src=\"https://colab.research.google.com/assets/colab-badge.svg\" alt=\"Open In Colab\"/></a>"
      ]
    },
    {
      "cell_type": "code",
      "metadata": {
        "id": "PhzG7hC2jyzg"
      },
      "source": [
        "from enum import Enum\n",
        "from dataclasses import dataclass\n",
        "import random\n",
        "Suit = Enum('Suit', \"Spade Heart Diamond Club\")\n",
        "Ranks = list(range(2, 15))\n",
        "RANK_NAME = \"23456789TJQKA\"\n",
        "SUIT_NAME = \"♠♥♦♣\"\n",
        "\n",
        "@dataclass\n",
        "class Card:\n",
        "  suit: Suit\n",
        "  rank: int\n",
        "  def __post_init__(self):\n",
        "    assert 2<=self.rank<=14\n",
        "  def __repr__(self):    \n",
        "    assert self\n",
        "    return SUIT_NAME[self.suit.value-1]+RANK_NAME[self.rank-2]"
      ],
      "execution_count": null,
      "outputs": []
    },
    {
      "cell_type": "code",
      "metadata": {
        "id": "k0CPCteRkRlH"
      },
      "source": [
        "from itertools import product, combinations\n",
        "deck = [Card(*x) for x in product(Suit, Rank)]"
      ],
      "execution_count": null,
      "outputs": []
    },
    {
      "cell_type": "code",
      "metadata": {
        "colab": {
          "base_uri": "https://localhost:8080/"
        },
        "id": "Do7u9abWkUJZ",
        "outputId": "08f21c6a-a7d7-47f1-c63b-6de8d227813e"
      },
      "source": [
        "random.sample(cards, 5)"
      ],
      "execution_count": null,
      "outputs": [
        {
          "output_type": "execute_result",
          "data": {
            "text/plain": [
              "[♥7, ♦K, ♦J, ♣7, ♦8]"
            ]
          },
          "metadata": {},
          "execution_count": 51
        }
      ]
    },
    {
      "cell_type": "code",
      "metadata": {
        "colab": {
          "base_uri": "https://localhost:8080/"
        },
        "id": "rpNiehDGkvhY",
        "outputId": "c88a7bfd-f120-4cb4-8163-45ea0fa927a5"
      },
      "source": [
        "len(list(combinations(cards, 5)))"
      ],
      "execution_count": null,
      "outputs": [
        {
          "output_type": "execute_result",
          "data": {
            "text/plain": [
              "2598960"
            ]
          },
          "metadata": {},
          "execution_count": 63
        }
      ]
    },
    {
      "cell_type": "code",
      "metadata": {
        "colab": {
          "base_uri": "https://localhost:8080/"
        },
        "id": "jw3i2GGWrZFi",
        "outputId": "05345665-43be-4246-87cd-a33ed971504e"
      },
      "source": [
        "!free -h"
      ],
      "execution_count": null,
      "outputs": [
        {
          "output_type": "stream",
          "name": "stdout",
          "text": [
            "              total        used        free      shared  buff/cache   available\n",
            "Mem:            12G        566M          9G        1.1M        2.2G         11G\n",
            "Swap:            0B          0B          0B\n"
          ]
        }
      ]
    },
    {
      "cell_type": "code",
      "metadata": {
        "id": "f4UtmuLArmr-"
      },
      "source": [
        "from collections import Counter\n",
        "from enum import IntEnum\n",
        "from typing import Tuple\n",
        "\n",
        "class HandType(IntEnum):\n",
        "  HighCard = 1\n",
        "  OnePair = 2\n",
        "  TwoPairs = 3\n",
        "  ThreeOfAKind  = 4\n",
        "  Straight = 5\n",
        "  Flush = 6\n",
        "  FullHouse = 7\n",
        "  FourOfAKind = 8\n",
        "  StraightFlush = 9\n",
        "\n",
        "@dataclass\n",
        "class HandRepr:\n",
        "  hand_type: HandType\n",
        "  hand_ranks: Tuple[int]\n"
      ],
      "execution_count": null,
      "outputs": []
    },
    {
      "cell_type": "code",
      "metadata": {
        "colab": {
          "base_uri": "https://localhost:8080/"
        },
        "id": "OsZKvM_aslh9",
        "outputId": "06c25001-e721-46ed-f6b8-194e3a43def7"
      },
      "source": [
        "#def cards_to_hand_repr(cards: Tuple[Card]):\n",
        "#  assert len(cards)==5\n",
        "cards = random.sample(deck, 5)\n",
        "print(cards)\n",
        "rank_count = Counter(c.rank for c in cards)\n",
        "if rank_count.most_common()[0][1]==1:\n",
        "  sorted_rank = sorted((c.rank for c in cards), reverse=True)\n",
        "  sorted_rank = tuple(sorted_rank)\n",
        "  print(sorted_rank)  \n",
        "  is_flush = all(c.suit == cards[0].suit for c in cards)\n",
        "  is_straight = sorted_rank[0]==sorted_rank[4]+4\n",
        "  if sorted_rank == (14, 5, 4, 3, 2): # special case A,2,3,4,5\n",
        "    is_straight = True\n",
        "    sorted_rank = (5, 4, 3, 2, 14)\n",
        "  _hand_type_list = [ \n",
        "               [HandType.HighCard, HandType.StraightFlush],\n",
        "               [HandType.Flush, HandType.StraightFlush],\n",
        "               ]               \n",
        "  hand_type =  _hand_type_list[is_flush][is_straight]\n",
        "  print(HandRepr(hand_type, sorted_rank))\n"
      ],
      "execution_count": null,
      "outputs": [
        {
          "output_type": "stream",
          "name": "stdout",
          "text": [
            "[♠3, ♣5, ♠K, ♣4, ♦7]\n",
            "(13, 7, 5, 4, 3)\n",
            "HandRepr(hand_type=<HandType.HighCard: 1>, hand_ranks=(13, 7, 5, 4, 3))\n"
          ]
        }
      ]
    },
    {
      "cell_type": "code",
      "metadata": {
        "id": "A2jGb-PwvOOb"
      },
      "source": [
        "sorted?"
      ],
      "execution_count": null,
      "outputs": []
    },
    {
      "cell_type": "code",
      "metadata": {
        "id": "phanGpr4xDCu"
      },
      "source": [
        ""
      ],
      "execution_count": null,
      "outputs": []
    }
  ]
}